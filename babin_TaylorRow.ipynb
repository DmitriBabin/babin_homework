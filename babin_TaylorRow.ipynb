{
 "cells": [
  {
   "cell_type": "code",
   "execution_count": 18,
   "metadata": {},
   "outputs": [
    {
     "name": "stdout",
     "output_type": "stream",
     "text": [
      "Help on built-in function exp in module math:\n",
      "\n",
      "exp(x, /)\n",
      "    Return e raised to the power of x.\n",
      "\n",
      "None 2.718281828459045\n",
      "Help on function my_exp in module __main__:\n",
      "\n",
      "my_exp(x)\n",
      "\n",
      "None 2.279585302336067\n"
     ]
    }
   ],
   "source": [
    "import math\n",
    "\n",
    "ITERATIONS = 20\n",
    "\n",
    "def my_exp(x):\n",
    "    x_paw = x\n",
    "    multiplier = 1\n",
    "    partical_sum = x\n",
    "    for n in range(1, ITERATIONS):\n",
    "        x_paw *= x**1\n",
    "        multiplier *= 1 / n / n\n",
    "        partical_sum += x_paw * multiplier\n",
    "    return partical_sum\n",
    "print(help(math.exp), math.exp(1))\n",
    "print(help(my_exp) , my_exp(1))\n"
   ]
  }
 ],
 "metadata": {
  "kernelspec": {
   "display_name": "Python 3",
   "language": "python",
   "name": "python3"
  },
  "language_info": {
   "codemirror_mode": {
    "name": "ipython",
    "version": 3
   },
   "file_extension": ".py",
   "mimetype": "text/x-python",
   "name": "python",
   "nbconvert_exporter": "python",
   "pygments_lexer": "ipython3",
   "version": "3.7.9"
  }
 },
 "nbformat": 4,
 "nbformat_minor": 4
}
