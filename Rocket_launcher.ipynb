{
 "cells": [
  {
   "cell_type": "code",
   "execution_count": 1,
   "metadata": {},
   "outputs": [
    {
     "data": {
      "image/png": "[encoded data removed]",
      "text/plain": [
       "<Figure size 432x288 with 1 Axes>"
      ]
     },
     "metadata": {
      "needs_background": "light"
     },
     "output_type": "display_data"
    }
   ],
   "source": [
    "%matplotlib inline\n",
    "import math\n",
    "import numpy as np\n",
    "import matplotlib.pyplot as pp\n",
    "\n",
    "MODEL_G = 9.81\n",
    "MODEL_DT = 0.01\n",
    "MODEL_DM = 3 # масса топлива, тратящегося за 1 секунду\n",
    "MODEL_m = 3 #изначальная масса топлива в ракете\n",
    "MODEL_M = 5 #масса ракеты\n",
    "a = math.pi/12 \n",
    "\n",
    "class Body:\n",
    "    def __init__(self, x, y, vx, vy):\n",
    "\n",
    "        self.x = x\n",
    "        self.y = y\n",
    "        self.vx = vx\n",
    "        self.vy = vy\n",
    "        \n",
    "        self.trajectory_x = []\n",
    "        self.trajectory_y = []\n",
    "        \n",
    "    def advance(self):\n",
    "        \n",
    "        self.trajectory_x.append(self.x)\n",
    "        self.trajectory_y.append(self.y)\n",
    "        \n",
    "        self.x += self.vx * MODEL_DT\n",
    "        self.y += self.vy * MODEL_DT\n",
    "        self.vy -= MODEL_G * MODEL_DT\n",
    "\n",
    "\n",
    "class Rocket(Body):\n",
    "    def __init__(rocket, x, y):\n",
    "        \n",
    "        rocket.trajectory_x = []\n",
    "        rocket.trajectory_y = []\n",
    "        \n",
    "        super().__init__(x, y, 9, 0 )\n",
    "        rocket.x = x\n",
    "        rocket.y = y\n",
    "        rocket.u = 9\n",
    "        rocket.m = 0\n",
    "    \n",
    "    def advance(rocket):\n",
    "        \n",
    "        rocket.trajectory_x.append(rocket.x)\n",
    "        rocket.trajectory_y.append(rocket.y)\n",
    "        while rocket.m < MODEL_m: # определяем условия для просчёта реактивного движения\n",
    "            rocket.m += MODEL_DM*MODEL_DT\n",
    "            rocket.x += rocket.vx * MODEL_DT\n",
    "            rocket.y += rocket.vy * MODEL_DT\n",
    "            rocket.vx +=  math.cos(a) * rocket.u * math.log1p(MODEL_M / (MODEL_M - rocket.m))\n",
    "            rocket.vy += math.sin(a) * rocket.u * math.log1p(MODEL_M / (MODEL_M - rocket.m)) - (MODEL_G * MODEL_DT)\n",
    "            \n",
    "            break\n",
    "        \n",
    "        rocket.x += rocket.vx * MODEL_DT\n",
    "        rocket.y += rocket.vy * MODEL_DT\n",
    "        rocket.vy -= MODEL_G * MODEL_DT\n",
    "            \n",
    "\n",
    "b = Body(0,0,600,100) # большие значения для удобства сравнения\n",
    "r = Rocket(0, 0)\n",
    "\n",
    "bodies = [b, r]\n",
    "\n",
    "for t in np.r_[0:10:MODEL_DT]:\n",
    "    for b in bodies:\n",
    "        b.advance()\n",
    "        r.advance()\n",
    "            \n",
    "        \n",
    "        \n",
    "        \n",
    "\n",
    "\n",
    "for r in bodies:\n",
    "    pp.plot(r.trajectory_x, r.trajectory_y)\n",
    "    pp.plot(b.trajectory_x, b.trajectory_y)\n",
    "    "
   ]
  },
  {
   "cell_type": "code",
   "execution_count": null,
   "metadata": {},
   "outputs": [],
   "source": []
  }
 ],
 "metadata": {
  "kernelspec": {
   "display_name": "Python 3",
   "language": "python",
   "name": "python3"
  },
  "language_info": {
   "codemirror_mode": {
    "name": "ipython",
    "version": 3
   },
   "file_extension": ".py",
   "mimetype": "text/x-python",
   "name": "python",
   "nbconvert_exporter": "python",
   "pygments_lexer": "ipython3",
   "version": "3.7.9"
  }
 },
 "nbformat": 4,
 "nbformat_minor": 4
}
