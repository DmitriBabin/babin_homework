{
 "cells": [
  {
   "cell_type": "code",
   "execution_count": 2,
   "metadata": {},
   "outputs": [
    {
     "name": "stdout",
     "output_type": "stream",
     "text": [
      "Help on built-in function exp in module math:\n",
      "\n",
      "exp(x, /)\n",
      "    Return e raised to the power of x.\n",
      "\n",
      "None 2.718281828459045\n",
      "Help on function my_exp in module __main__:\n",
      "\n",
      "my_exp(x)\n",
      "\n",
      "None 2.7182818284590455\n",
      "<function my_exp at 0x000001FA10EBBB88> <numpy.vectorize object at 0x000001FA1C234A08>\n"
     ]
    },
    {
     "data": {
      "image/png": "[encoded data removed]",
      "text/plain": [
       "<Figure size 432x288 with 1 Axes>"
      ]
     },
     "metadata": {
      "needs_background": "light"
     },
     "output_type": "display_data"
    }
   ],
   "source": [
    "import math\n",
    "import matplotlib.pyplot as plt\n",
    "import numpy as np\n",
    "\n",
    "ITERATIONS = 100\n",
    "\n",
    "def my_exp(x):\n",
    "    x_paw = 1\n",
    "    multiplier = 1\n",
    "    partical_sum = 1\n",
    "    for n in range(1, ITERATIONS):\n",
    "        x_paw *= x**1\n",
    "        multiplier *= 1 / n\n",
    "        partical_sum += x_paw * multiplier\n",
    "    return partical_sum\n",
    "print(help(math.exp), math.exp(1))\n",
    "print(help(my_exp) , my_exp(1))\n",
    "\n",
    "vs = np.vectorize(my_exp)\n",
    "print(my_exp, vs)\n",
    "\n",
    "angles = np.r_[ 0:2 :0.01]\n",
    "plt.plot(angles, np.exp(angles))\n",
    "plt.plot(angles, vs(angles))\n",
    "plt.show()\n"
   ]
  }
 ],
 "metadata": {
  "kernelspec": {
   "display_name": "Python 3",
   "language": "python",
   "name": "python3"
  },
  "language_info": {
   "codemirror_mode": {
    "name": "ipython",
    "version": 3
   },
   "file_extension": ".py",
   "mimetype": "text/x-python",
   "name": "python",
   "nbconvert_exporter": "python",
   "pygments_lexer": "ipython3",
   "version": "3.7.9"
  }
 },
 "nbformat": 4,
 "nbformat_minor": 4
}
