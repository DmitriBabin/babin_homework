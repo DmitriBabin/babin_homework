{
 "cells": [
  {
   "cell_type": "code",
   "execution_count": null,
   "metadata": {},
   "outputs": [],
   "source": [
    "def find_all_rabin_karp(text, pattern):\n",
    "    result = []\n",
    "    patternsum = sum(ord(s) for s in pattern)\n",
    "    textwindowsum = sum(ord(text[i]) for i in range(len(pattern)))\n",
    "    index = 0\n",
    "    while True:\n",
    "        if patternsum == textwindowsum:\n",
    "            found = True\n",
    "            for i in range(len(pattern)):\n",
    "                if text.startswith(pattern, i):\n",
    "                    result.append(i)\n",
    "            if len(pattern) + i >= len(text):\n",
    "                break\n",
    "            textwindowsum -= ord(text[i])\n",
    "            textwindowsum += ord(text[len(pattern) + i])\n",
    "    return result\n",
    "t = \"\"\"Вместе шли они в сраженья через минные поля,\n",
    "на узлах сопротивленья славу поровну деля.\n",
    "Не страшили дождь и ночь их, и немало огневых\n",
    "подавили они точек, не считая запятых.\n",
    "Воевала дело зная та четверка храбрецов -\n",
    "Иваненко, Иванбаев, Иванидзе, Иванов.\"\"\"\n",
    "p = \"Иван\"\n",
    "print(find_all_rabin_karp(t, p))\n"
   ]
  },
  {
   "cell_type": "code",
   "execution_count": null,
   "metadata": {},
   "outputs": [],
   "source": []
  }
 ],
 "metadata": {
  "kernelspec": {
   "display_name": "Python 3",
   "language": "python",
   "name": "python3"
  },
  "language_info": {
   "codemirror_mode": {
    "name": "ipython",
    "version": 3
   },
   "file_extension": ".py",
   "mimetype": "text/x-python",
   "name": "python",
   "nbconvert_exporter": "python",
   "pygments_lexer": "ipython3",
   "version": "3.7.9"
  }
 },
 "nbformat": 4,
 "nbformat_minor": 4
}
